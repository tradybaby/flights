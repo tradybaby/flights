{
 "cells": [
  {
   "cell_type": "code",
   "execution_count": 13,
   "metadata": {},
   "outputs": [],
   "source": [
    "import sqlite3\n",
    "import random\n",
    "import pandas as pd\n",
    "import numpy as np\n",
    "from sklearn.neural_network import MLPClassifier\n",
    "from sklearn.model_selection import train_test_split\n",
    "from sklearn.metrics import accuracy_score\n",
    "from sklearn.feature_extraction.text import CountVectorizer \n",
    "from sklearn.feature_extraction import text \n",
    "import pickle"
   ]
  },
  {
   "cell_type": "code",
   "execution_count": 14,
   "metadata": {},
   "outputs": [
    {
     "name": "stdout",
     "output_type": "stream",
     "text": [
      "training size: 28 testing size: 4 label counts: [13 15]\n",
      "score train: 0.5357142857142857\n",
      "score test:  0.25\n",
      "[1 1 1 1 1 1 1 1 1 1 1 1 1 1 1 1 1 1 1 1 1 1 1 1 1 1 1 1 1 1 1 1]\n"
     ]
    }
   ],
   "source": [
    "f = open(\"list.txt\")\n",
    "flights = f.readlines()\n",
    "flights_2 = np.array_split(flights, len(flights)/9)\n",
    "labels = [\"id\", \"Airline\", \"Flight\", \"AirportFrom\", \"AirportTo\", \"DayOfWeek\", \"Time\", \"Length\", \"Delay\"]\n",
    "df = pd.DataFrame.from_records(flights_2, columns = labels)\n",
    "df = df.replace('\\n', '', regex=True)\n",
    "minobs = min(df.value_counts('Delay').values)\n",
    "df = df.groupby('Delay').sample(n=minobs, random_state=1).sample(frac=1, random_state=1)\n",
    "df.iloc[:5,:]\n",
    "X = np.asarray(df[\"Time\"])\n",
    "X = X.reshape(-1, 1)\n",
    "Y = np.asarray(df[\"Delay\"], dtype='int8')\n",
    "Y = Y.reshape(-1, 1)\n",
    "Y = Y.ravel()\n",
    "X_train, X_test, y_train, y_test = train_test_split(X, Y, test_size=0.1)\n",
    "print('training size:', X_train.shape[0], \n",
    "        'testing size:', X_test.shape[0],\n",
    "        'label counts:', np.unique(y_train, return_counts=True)[1])\n",
    "clf = MLPClassifier(hidden_layer_sizes=(100,20,),\n",
    "                max_iter=50).fit(X_train, y_train)\n",
    "print('score train:', clf.score(X_train, y_train))\n",
    "print('score test: ', clf.score(X_test, y_test))\n",
    "\n",
    "print(clf.predict(X))"
   ]
  },
  {
   "cell_type": "markdown",
   "metadata": {},
   "source": [
    "Create Pickle"
   ]
  },
  {
   "cell_type": "code",
   "execution_count": 9,
   "metadata": {},
   "outputs": [],
   "source": [
    "import pickle\n",
    "Xmax = X.max(0)\n",
    "pickle.dump((clf, Xmax), open('clf.pkl', 'wb'))"
   ]
  },
  {
   "cell_type": "markdown",
   "metadata": {},
   "source": [
    "Load Pickle"
   ]
  },
  {
   "cell_type": "code",
   "execution_count": 10,
   "metadata": {},
   "outputs": [],
   "source": [
    "clff, Xmax2 = pickle.load(open('clf.pkl', 'rb'))"
   ]
  },
  {
   "cell_type": "markdown",
   "metadata": {},
   "source": [
    "Use Pickle"
   ]
  },
  {
   "cell_type": "code",
   "execution_count": 12,
   "metadata": {},
   "outputs": [
    {
     "name": "stdout",
     "output_type": "stream",
     "text": [
      "[0 0 1 0 1 1 0 0 1 0 1 0 0 1 0 1 1 0 1 0 1 0 1 0 0 1 1 0 0 1 0 0]\n"
     ]
    }
   ],
   "source": [
    "print(clff.predict(X))"
   ]
  }
 ],
 "metadata": {
  "kernelspec": {
   "display_name": "Python 3.8.5 ('base')",
   "language": "python",
   "name": "python3"
  },
  "language_info": {
   "codemirror_mode": {
    "name": "ipython",
    "version": 3
   },
   "file_extension": ".py",
   "mimetype": "text/x-python",
   "name": "python",
   "nbconvert_exporter": "python",
   "pygments_lexer": "ipython3",
   "version": "3.8.5"
  },
  "orig_nbformat": 4,
  "vscode": {
   "interpreter": {
    "hash": "02d131ae9671a7974c5d3b54a2e7b6c3b145e7af12c955c731c8c8bf534e15c1"
   }
  }
 },
 "nbformat": 4,
 "nbformat_minor": 2
}
