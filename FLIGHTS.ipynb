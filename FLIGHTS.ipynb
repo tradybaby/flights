{
 "cells": [
  {
   "cell_type": "markdown",
   "id": "cd55c001",
   "metadata": {},
   "source": [
    "**Name: Elena Lisa Monika Gaggia**\n",
    "\n",
    "**Student ID: 12023845**\n",
    "\n",
    "**Course: 1360 Applications of Data Science: Robotic Process Automation with Machine Learning**"
   ]
  },
  {
   "cell_type": "markdown",
   "id": "7294d1a6",
   "metadata": {},
   "source": [
    "# Flight Booking Application"
   ]
  },
  {
   "cell_type": "markdown",
   "id": "c0e43708",
   "metadata": {},
   "source": [
    "Attention: this programme was created on a Macbook running macOS Ventura 13.1. Because of this, the commands in the terminal may differ from those of other operating systems."
   ]
  },
  {
   "cell_type": "markdown",
   "id": "6c2c51a6",
   "metadata": {},
   "source": [
    "## Project Idea"
   ]
  },
  {
   "cell_type": "markdown",
   "id": "e04bb34f",
   "metadata": {},
   "source": [
    "The motivation behind my project is that I will do my semester abroad in Singapore in 2023. The prices for the flights are very high and fluctuate greatly. Because of this, the bot should help me find the cheapest possible flight with the highest possible guarantee that it will take off on time.\n",
    "\n",
    "The idea is to program a bot that is able to identify flights between two specified airports (i.e., Singapore Changi Airport and Paris Charles de Gaulle Airport) within a specified timeframe.\n",
    "\n",
    "The bot should use Machine Learning to determine if the flight will take off with a high enough probability, based on past experiences with the different flights.\n",
    "\n",
    "If the probability is high enough the bot should book the flight if it also fulfills a specific price criteria.\n",
    "\n",
    "As the prices for flights can be quite volatile, the goal is to book a reliable and cheap flight without having to check the criteria myself.\n",
    "\n",
    "Since I have neither enough data nor do I want the bot to actually book a real flight right now, this project serves as a prototype.\n",
    "\n",
    "The bot is able to perform Machine Learning from a dataset and predict the probability that a flight will be delayed. It then books a flight on the website https://blazedemo.com, which is a flight-booking-simulation."
   ]
  },
  {
   "cell_type": "markdown",
   "id": "d97d9801",
   "metadata": {},
   "source": [
    "## 1. Get familiar with the data"
   ]
  },
  {
   "cell_type": "code",
   "execution_count": 23,
   "id": "de1846fa",
   "metadata": {},
   "outputs": [],
   "source": [
    "import sqlite3\n",
    "import random\n",
    "import pandas as pd\n",
    "import numpy as np\n",
    "from sklearn.neural_network import MLPClassifier\n",
    "from sklearn.model_selection import train_test_split\n",
    "from sklearn.metrics import accuracy_score\n",
    "from sklearn.feature_extraction.text import CountVectorizer \n",
    "from sklearn.feature_extraction import text \n",
    "import pickle"
   ]
  },
  {
   "cell_type": "code",
   "execution_count": 24,
   "id": "2b799d75",
   "metadata": {},
   "outputs": [
    {
     "data": {
      "text/html": [
       "<div>\n",
       "<style scoped>\n",
       "    .dataframe tbody tr th:only-of-type {\n",
       "        vertical-align: middle;\n",
       "    }\n",
       "\n",
       "    .dataframe tbody tr th {\n",
       "        vertical-align: top;\n",
       "    }\n",
       "\n",
       "    .dataframe thead th {\n",
       "        text-align: right;\n",
       "    }\n",
       "</style>\n",
       "<table border=\"1\" class=\"dataframe\">\n",
       "  <thead>\n",
       "    <tr style=\"text-align: right;\">\n",
       "      <th></th>\n",
       "      <th>id</th>\n",
       "      <th>Airline</th>\n",
       "      <th>Flight</th>\n",
       "      <th>AirportFrom</th>\n",
       "      <th>AirportTo</th>\n",
       "      <th>DayOfWeek</th>\n",
       "      <th>Time</th>\n",
       "      <th>Length</th>\n",
       "      <th>Delay</th>\n",
       "    </tr>\n",
       "  </thead>\n",
       "  <tbody>\n",
       "    <tr>\n",
       "      <th>0</th>\n",
       "      <td>1</td>\n",
       "      <td>CO</td>\n",
       "      <td>269</td>\n",
       "      <td>SFO</td>\n",
       "      <td>IAH</td>\n",
       "      <td>3</td>\n",
       "      <td>15</td>\n",
       "      <td>205</td>\n",
       "      <td>1</td>\n",
       "    </tr>\n",
       "    <tr>\n",
       "      <th>1</th>\n",
       "      <td>2</td>\n",
       "      <td>US</td>\n",
       "      <td>1558</td>\n",
       "      <td>PHX</td>\n",
       "      <td>CLT</td>\n",
       "      <td>3</td>\n",
       "      <td>15</td>\n",
       "      <td>222</td>\n",
       "      <td>1</td>\n",
       "    </tr>\n",
       "    <tr>\n",
       "      <th>2</th>\n",
       "      <td>3</td>\n",
       "      <td>AA</td>\n",
       "      <td>2400</td>\n",
       "      <td>LAX</td>\n",
       "      <td>DFW</td>\n",
       "      <td>3</td>\n",
       "      <td>20</td>\n",
       "      <td>165</td>\n",
       "      <td>1</td>\n",
       "    </tr>\n",
       "    <tr>\n",
       "      <th>3</th>\n",
       "      <td>4</td>\n",
       "      <td>AA</td>\n",
       "      <td>2466</td>\n",
       "      <td>SFO</td>\n",
       "      <td>DFW</td>\n",
       "      <td>3</td>\n",
       "      <td>20</td>\n",
       "      <td>195</td>\n",
       "      <td>1</td>\n",
       "    </tr>\n",
       "    <tr>\n",
       "      <th>4</th>\n",
       "      <td>5</td>\n",
       "      <td>AS</td>\n",
       "      <td>108</td>\n",
       "      <td>ANC</td>\n",
       "      <td>SEA</td>\n",
       "      <td>3</td>\n",
       "      <td>30</td>\n",
       "      <td>202</td>\n",
       "      <td>0</td>\n",
       "    </tr>\n",
       "  </tbody>\n",
       "</table>\n",
       "</div>"
      ],
      "text/plain": [
       "   id Airline  Flight AirportFrom AirportTo  DayOfWeek  Time  Length  Delay\n",
       "0   1      CO     269         SFO       IAH          3    15     205      1\n",
       "1   2      US    1558         PHX       CLT          3    15     222      1\n",
       "2   3      AA    2400         LAX       DFW          3    20     165      1\n",
       "3   4      AA    2466         SFO       DFW          3    20     195      1\n",
       "4   5      AS     108         ANC       SEA          3    30     202      0"
      ]
     },
     "execution_count": 24,
     "metadata": {},
     "output_type": "execute_result"
    }
   ],
   "source": [
    "# Display the dataset\n",
    "import pandas as pd\n",
    "df = pd.read_csv(\"Airlines.csv\")\n",
    "df.head()"
   ]
  },
  {
   "cell_type": "code",
   "execution_count": 25,
   "id": "8730ef4d",
   "metadata": {},
   "outputs": [
    {
     "name": "stdout",
     "output_type": "stream",
     "text": [
      "id              int64\n",
      "Airline        object\n",
      "Flight          int64\n",
      "AirportFrom    object\n",
      "AirportTo      object\n",
      "DayOfWeek       int64\n",
      "Time            int64\n",
      "Length          int64\n",
      "Delay           int64\n",
      "dtype: object\n"
     ]
    }
   ],
   "source": [
    "# Check the different datatypes of the columns\n",
    "df = pd.DataFrame(df)\n",
    "print (df.dtypes)"
   ]
  },
  {
   "cell_type": "code",
   "execution_count": 26,
   "id": "d966494c",
   "metadata": {},
   "outputs": [
    {
     "data": {
      "text/plain": [
       "539383"
      ]
     },
     "execution_count": 26,
     "metadata": {},
     "output_type": "execute_result"
    }
   ],
   "source": [
    "# Check length of dataset\n",
    "len(df)"
   ]
  },
  {
   "cell_type": "code",
   "execution_count": 27,
   "id": "83fb48ab",
   "metadata": {},
   "outputs": [],
   "source": [
    "# In order to receive a trustworthy result check for duplicates and drop them \n",
    "# As the flight number ('Flight') is the same for identical flights evaluate this column\n",
    "df = df.drop_duplicates(subset = \"Flight\")"
   ]
  },
  {
   "cell_type": "code",
   "execution_count": 28,
   "id": "e9143b7f",
   "metadata": {},
   "outputs": [
    {
     "data": {
      "text/plain": [
       "6585"
      ]
     },
     "execution_count": 28,
     "metadata": {},
     "output_type": "execute_result"
    }
   ],
   "source": [
    "# Check new length of the dataset\n",
    "df = df.drop_duplicates(subset = \"Flight\")\n",
    "len(df)"
   ]
  },
  {
   "cell_type": "code",
   "execution_count": 29,
   "id": "d4a5c7b8",
   "metadata": {},
   "outputs": [],
   "source": [
    "# Save the pre-processed dataset as a seperate CSV file\n",
    "df.to_csv(\"Airlines_processed.csv\", index = False)"
   ]
  },
  {
   "cell_type": "markdown",
   "id": "aa1a823e",
   "metadata": {},
   "source": [
    "### Description of the dataset\n",
    "\n",
    "The new dataset Airlines_processed.csv has 6585 entries. All columns are integers, except for the Airline, AirportFrom and AirportTo column, which are objects.\n",
    "\n",
    "**Columns:**\n",
    "- **id** (serial number)\n",
    "- **Airline** (airline of the flight)\n",
    "- **Flight** (type of aircraft)\n",
    "- **AirportFrom** (source airport)\n",
    "- **AirportTo** (destination airport)\n",
    "- **DayOfWeek** (weekday)\n",
    "- **Time** (time of flight)\n",
    "- **Length** (length of flight)\n",
    "- **Delay** (whether the flight was delayed or not)\n",
    "\n",
    "**Airlines:**\n",
    "- Alaska Airlines AS / ASA\n",
    "- American Airlines AA/AAL\n",
    "- Air Canada AC/ACA\n",
    "- Aeromexico AM / AMX\n",
    "- Continental Airlines CO / COA\n",
    "- Delta Airlines DL / DAL\n",
    "- FedEx FX / FDX\n",
    "- Hawaiian Airlines HA / HAL\n",
    "- Northwest Airlines NW / NWA\n",
    "- Polar Air Cargo PO / PAC\n",
    "- Southwest Airlines SW / SWA\n",
    "- United Airlines UA / UAL\n",
    "- United Parcel (UPS) 5X / UPS\n",
    "- Virgin Atlantic VS / VIR\n",
    "- VivaAerobús VB / VIV\n",
    "- WestJet WS / WJ\n",
    "\n",
    "**Airports:**\n",
    "- ATL - Hartsfield-Jackson Atlanta International Airport - Georgia\n",
    "- AUS - Austin-Bergstrom International Airport - Texas\n",
    "- BNA - Nashville International Airport - Tennessee\n",
    "- BOS - Boston Logan International Airport - Massachusetts\n",
    "- BWI - Baltimore-Washington International Thurgood Marshall Airport - Washington\n",
    "- CLT - Charlotte Douglas International Airport - North Carolina\n",
    "- DAL - Dallas Love Field - Texas\n",
    "- DCA - Ronald Reagan Washington National Airport - Arlington, Virginia\n",
    "- DEN - Denver International Airport - Colorado\n",
    "- DFW - Dallas/Fort Worth International Airport - Texas\n",
    "- DTW - Detroit Metropolitan Airport - Michigan\n",
    "- EWR - Newark Liberty International Airport - New Jersey\n",
    "- FLL - Fort Lauderdale–Hollywood International Airport - Florida\n",
    "- HNL - Daniel K. Inouye International Airport - Honolulu, Hawaii\n",
    "- HOU - William P. Hobby Airport - Houston, Texas\n",
    "- IAD - Dulles International Airport - Virginia\n",
    "- IAH - George Bush Intercontinental Airport - Houston, Texas\n",
    "- JFK - John F. Kennedy International Airport - Queens, New York\n",
    "- LAS - McCarran International Airport - Las Vegas, Nevada\n",
    "- LAX - Los Angeles International Airport - California\n",
    "- LGA - LaGuardia Airport - Queens, New York\n",
    "- MCO - Orlando International Airport - Florida\n",
    "- MDW - Chicago Midway International Airport - Illinois\n",
    "- MIA - Miami International Airport - Florida\n",
    "- MSP - Minneapolis–Saint Paul International Airport - Minnesota\n",
    "- MSY - Louis Armstrong New Orleans International Airport - Louisiana\n",
    "- OAK - Oakland International Airport - California\n",
    "- ORD - O'Hare International Airport - Chicago, Illinois\n",
    "- PDX - Portland International Airport - Oregon\n",
    "- PHL - Philadelphia International Airport - Pennsylvania\n",
    "- PHX - Phoenix Sky Harbor International Airport - Arizona\n",
    "- RDU - Raleigh-Durham International Airport - North Carolina\n",
    "- SAN - San Diego International Airport - California\n",
    "- SEA - Seattle–Tacoma International Airport - Washington\n",
    "- SFO - San Francisco International Airport - California\n",
    "- SJC - Norman Y. Mineta San Jose International Airport - California\n",
    "- SLC - Salt Lake City International Airport - Utah\n",
    "- SMF - Sacramento International Airport - California\n",
    "- STL - St. Louis Lambert International Airport - Missouri\n",
    "- TPA - Tampa International Airport - Florida"
   ]
  },
  {
   "cell_type": "markdown",
   "id": "acfa63f2",
   "metadata": {},
   "source": [
    "## 2. Start the Webdriver manager\n",
    "First we need to start the Webdriver manager using the command 'sudo webdrivermanager chrome' in the Terminal. This application makes it easy to automate tasks."
   ]
  },
  {
   "cell_type": "markdown",
   "id": "90151f9e",
   "metadata": {},
   "source": [
    "## 3. Build Flask application"
   ]
  },
  {
   "cell_type": "markdown",
   "id": "6594e44b",
   "metadata": {},
   "source": [
    "In the next step we create a python file named 'flights.py' in which we build the Flask app. Simply create a new .py-file in your directory and copy the code below into it. As soon as the programme has been executed, the application runs on a local host, which is now accessible via the URL http://127.0.0.1:4040/. \n",
    "This Flask app accesses the dataset, converts it to a database and displays it in a subpage. It also creates the two files \"flights.db\" and \"tmpdat.csv\"."
   ]
  },
  {
   "cell_type": "markdown",
   "id": "d50fc741",
   "metadata": {},
   "source": [
    "```python\n",
    "from flask import Flask, render_template, request \n",
    "import sqlite3\n",
    "\n",
    "app = Flask(__name__)\n",
    "\n",
    "def getconn():\n",
    "    return sqlite3.connect(\"flights.db\")\n",
    "\n",
    "@app.route(\"/\")\n",
    "def flights():\n",
    "    return \"\"\"<h1>Flights App</h1>\n",
    "    <ul>\n",
    "    <li><a href=listflight>List</a></li>\n",
    "    </ul>\"\"\"\n",
    "\n",
    "@app.route('/listflight')\n",
    "def list_flights():\n",
    "    conn = getconn()\n",
    "    cur = conn.cursor()\n",
    "    rows = cur.execute(\"select id, airline, flight, airportfrom, airportto, dayofweek, time, length, delay from flights\")\n",
    "    html = \"<h3>Flights</h3><table>\\n\" \n",
    "    for row in rows:\n",
    "        html += (\"<tr>\" \n",
    "        + \"<td align=right>%s\"\n",
    "        + \"<td align=right>%s\"\n",
    "        + \"<td align=right>%s\"\n",
    "        + \"<td align=right>%s\"\n",
    "        + \"<td align=right>%s\"\n",
    "        + \"<td align=right>%s\"\n",
    "        + \"<td align=right>%s\"\n",
    "        + \"<td align=right>%s\"\n",
    "        + \"<td align=right>%s\\n\") % row\n",
    "    conn.close()\n",
    "    return html + \"</table>\\n\"\n",
    "\n",
    "import pandas as pd\n",
    "import numpy as np\n",
    "\n",
    "df = pd.read_csv(\"Airlines_processed.csv\")\n",
    "df.head()\n",
    "\n",
    "data = np.asarray(df)\n",
    "\n",
    "conn = sqlite3.connect(\"flights.db\")\n",
    "cur = conn.cursor()\n",
    "cur.execute(\"drop table if exists flights\")\n",
    "conn.commit()\n",
    "\n",
    "fout = open(\"tmpdat.csv\", \"w\")\n",
    "fout.write(\"id,airline,flight,airportfrom,airportto,dayofweek,time,length,delay\\n\")\n",
    "for x in data:\n",
    "    fout.write(\"%s,%s,%s,%s,%s,%s,%s,%s,%s\\n\" % tuple(x[:9]))\n",
    "fout.close()\n",
    "pd.read_csv(\"tmpdat.csv\").to_sql(\"flights\", conn, index = False)\n",
    "conn.commit()\n",
    "\n",
    "app.run(port=4040)\n",
    "```"
   ]
  },
  {
   "cell_type": "markdown",
   "id": "a90b5b73",
   "metadata": {},
   "source": [
    "## 4. Creation of the first bot\n",
    "The most important characteristic of the bot is that it uses the Chrome browser. Of course this depends on which web driver manager was started before. In addition, it accesses functions of the library 'mytools.py', which we will create in the next step. Save the text below as 'flightbot_1.txt'."
   ]
  },
  {
   "cell_type": "markdown",
   "id": "0e2c3601",
   "metadata": {},
   "source": [
    "<pre>\n",
    "*** Settings ***\n",
    "Library             SeleniumLibrary\n",
    "Library             mytools.py\n",
    "\n",
    "*** Variables ***\n",
    "${url}                        http://127.0.0.1:4040\n",
    "${browser}      \t          Chrome\n",
    "\n",
    "*** Test Cases ***\n",
    "Start Flights\n",
    "    Open Browser              ${url}    ${browser} \n",
    "    Create My File            list.txt\n",
    "    Create My File            result.txt\n",
    "\n",
    "Enter Flight\n",
    "    Click Link      //a[@href=\"listflight\"]\n",
    "Iterate Through \n",
    "    ${elements}=    Get WebElements    //td\n",
    "    FOR    ${element}    IN    @{elements}\n",
    "        Append My File    list.txt    ${element.text}\n",
    "    END"
   ]
  },
  {
   "cell_type": "markdown",
   "id": "35c45031",
   "metadata": {},
   "source": [
    "In addition, the following code must be saved as 'mytools.py' so that the bot can access it. This library allows the bot to iterate trough and process the website entries in the text file 'list.txt'. If you want to work with all 6585 entries, it takes a long time to iterate and save them in the text file. However, as much data as possible should be used for the evaluation. If the result is not that important, you can also set the limit to of selected data in 'flighty.py' to 100 or 500, for example, to speed up the process."
   ]
  },
  {
   "cell_type": "markdown",
   "id": "87f4e0c2",
   "metadata": {},
   "source": [
    "```python\n",
    "import sqlite3\n",
    "import random\n",
    "import pandas as pd\n",
    "import numpy as np\n",
    "from sklearn.neural_network import MLPClassifier\n",
    "from sklearn.model_selection import train_test_split\n",
    "from sklearn.metrics import accuracy_score\n",
    "from sklearn.feature_extraction.text import CountVectorizer \n",
    "from sklearn.feature_extraction import text \n",
    "import pickle\n",
    "\n",
    "def create_my_file(fn):\n",
    "    fp = open(fn, 'w')\n",
    "    fp.close()\n",
    "    \n",
    "def append_my_file(fn, txt):\n",
    "    fp = open(fn, 'a')\n",
    "    fp.write(txt + '\\n')\n",
    "    fp.close()\n",
    "\n",
    "def append_my_file2(fn, txt):\n",
    "    fp = open(fn, 'a')\n",
    "    fa = open(fn)\n",
    "    if len(fa.readlines())%3 == 2:\n",
    "        fp.write(str(len(fp.readlines())) + ';' + \"\\n\")\n",
    "    else:\n",
    "        fp.write(txt + ';')\n",
    "    fp.close()\n",
    "```"
   ]
  },
  {
   "cell_type": "markdown",
   "id": "8d4205e1",
   "metadata": {},
   "source": [
    "In the next step you can execute the bot using the command 'robot flightbot_1.txt'."
   ]
  },
  {
   "cell_type": "markdown",
   "id": "a41ec66e",
   "metadata": {},
   "source": [
    "## 5. Perform Machine Learning in order to build mytools.py library\n",
    "In the next step, the machine learning function is created, which is then included in 'mytools.py' so that the bot itself can perform machine learning."
   ]
  },
  {
   "cell_type": "markdown",
   "id": "d7029da4",
   "metadata": {},
   "source": [
    "### Pre-Processing"
   ]
  },
  {
   "cell_type": "code",
   "execution_count": 33,
   "id": "55358ae2",
   "metadata": {},
   "outputs": [
    {
     "data": {
      "text/html": [
       "<div>\n",
       "<style scoped>\n",
       "    .dataframe tbody tr th:only-of-type {\n",
       "        vertical-align: middle;\n",
       "    }\n",
       "\n",
       "    .dataframe tbody tr th {\n",
       "        vertical-align: top;\n",
       "    }\n",
       "\n",
       "    .dataframe thead th {\n",
       "        text-align: right;\n",
       "    }\n",
       "</style>\n",
       "<table border=\"1\" class=\"dataframe\">\n",
       "  <thead>\n",
       "    <tr style=\"text-align: right;\">\n",
       "      <th></th>\n",
       "      <th>id</th>\n",
       "      <th>Airline</th>\n",
       "      <th>Flight</th>\n",
       "      <th>AirportFrom</th>\n",
       "      <th>AirportTo</th>\n",
       "      <th>DayOfWeek</th>\n",
       "      <th>Time</th>\n",
       "      <th>Length</th>\n",
       "      <th>Delay</th>\n",
       "    </tr>\n",
       "  </thead>\n",
       "  <tbody>\n",
       "    <tr>\n",
       "      <th>0</th>\n",
       "      <td>1</td>\n",
       "      <td>CO</td>\n",
       "      <td>269</td>\n",
       "      <td>SFO</td>\n",
       "      <td>IAH</td>\n",
       "      <td>3</td>\n",
       "      <td>15</td>\n",
       "      <td>205</td>\n",
       "      <td>1</td>\n",
       "    </tr>\n",
       "    <tr>\n",
       "      <th>1</th>\n",
       "      <td>2</td>\n",
       "      <td>US</td>\n",
       "      <td>1558</td>\n",
       "      <td>PHX</td>\n",
       "      <td>CLT</td>\n",
       "      <td>3</td>\n",
       "      <td>15</td>\n",
       "      <td>222</td>\n",
       "      <td>1</td>\n",
       "    </tr>\n",
       "    <tr>\n",
       "      <th>2</th>\n",
       "      <td>3</td>\n",
       "      <td>AA</td>\n",
       "      <td>2400</td>\n",
       "      <td>LAX</td>\n",
       "      <td>DFW</td>\n",
       "      <td>3</td>\n",
       "      <td>20</td>\n",
       "      <td>165</td>\n",
       "      <td>1</td>\n",
       "    </tr>\n",
       "    <tr>\n",
       "      <th>3</th>\n",
       "      <td>4</td>\n",
       "      <td>AA</td>\n",
       "      <td>2466</td>\n",
       "      <td>SFO</td>\n",
       "      <td>DFW</td>\n",
       "      <td>3</td>\n",
       "      <td>20</td>\n",
       "      <td>195</td>\n",
       "      <td>1</td>\n",
       "    </tr>\n",
       "    <tr>\n",
       "      <th>4</th>\n",
       "      <td>5</td>\n",
       "      <td>AS</td>\n",
       "      <td>108</td>\n",
       "      <td>ANC</td>\n",
       "      <td>SEA</td>\n",
       "      <td>3</td>\n",
       "      <td>30</td>\n",
       "      <td>202</td>\n",
       "      <td>0</td>\n",
       "    </tr>\n",
       "  </tbody>\n",
       "</table>\n",
       "</div>"
      ],
      "text/plain": [
       "  id Airline Flight AirportFrom AirportTo DayOfWeek Time Length Delay\n",
       "0  1      CO    269         SFO       IAH         3   15    205     1\n",
       "1  2      US   1558         PHX       CLT         3   15    222     1\n",
       "2  3      AA   2400         LAX       DFW         3   20    165     1\n",
       "3  4      AA   2466         SFO       DFW         3   20    195     1\n",
       "4  5      AS    108         ANC       SEA         3   30    202     0"
      ]
     },
     "execution_count": 33,
     "metadata": {},
     "output_type": "execute_result"
    }
   ],
   "source": [
    "# Open and read the textfile created by the bot\n",
    "f = open(\"list.txt\")\n",
    "flights = f.readlines()\n",
    "# Split it by the number of columns\n",
    "flights_2 = np.array_split(flights, len(flights)/9)\n",
    "\n",
    "# Choose labels and create data frame\n",
    "labels = [\"id\", \"Airline\", \"Flight\", \"AirportFrom\", \"AirportTo\", \"DayOfWeek\", \"Time\", \"Length\", \"Delay\"]\n",
    "df = pd.DataFrame.from_records(flights_2, columns = labels)\n",
    "df = df.replace('\\n', '', regex=True)\n",
    "df.head()"
   ]
  },
  {
   "cell_type": "code",
   "execution_count": 34,
   "id": "44b51fab",
   "metadata": {},
   "outputs": [
    {
     "data": {
      "text/plain": [
       "Delay\n",
       "0    4108\n",
       "1    2477\n",
       "dtype: int64"
      ]
     },
     "execution_count": 34,
     "metadata": {},
     "output_type": "execute_result"
    }
   ],
   "source": [
    "# The value count reveals an imbalance in the number of observations per delay classes\n",
    "df.value_counts('Delay')"
   ]
  },
  {
   "cell_type": "code",
   "execution_count": 35,
   "id": "c3e1990d",
   "metadata": {},
   "outputs": [
    {
     "name": "stdout",
     "output_type": "stream",
     "text": [
      "0    2477\n",
      "1    2477\n",
      "Name: Delay, dtype: int64\n"
     ]
    }
   ],
   "source": [
    "# Get equal numbers of observations\n",
    "minobs = min(df.value_counts('Delay').values)\n",
    "df = df.groupby('Delay').sample(n=minobs, random_state=1).sample(frac=1, random_state=1)\n",
    "df.iloc[:5,:]\n",
    "print(df['Delay'].value_counts())"
   ]
  },
  {
   "cell_type": "markdown",
   "id": "c30d2a0c",
   "metadata": {},
   "source": [
    "### Deep Learning"
   ]
  },
  {
   "cell_type": "markdown",
   "id": "c6c1ccee",
   "metadata": {},
   "source": [
    "Assumption: From experience it seems that regardless of severe weather or other uncontrollable variables, the time of departure has an impact on whether a flight is delayed. The earlier in the day a flight departs, the less likely it is to be delayed."
   ]
  },
  {
   "cell_type": "code",
   "execution_count": 41,
   "id": "5abc5d32",
   "metadata": {},
   "outputs": [],
   "source": [
    "# Convert 'Time' column into a numpy array X\n",
    "X = np.asarray(df[\"Time\"])\n",
    "X = X.reshape(-1, 1)\n",
    "\n",
    "# Convert 'Delay' column into a numpy array Y\n",
    "Y = np.asarray(df[\"Delay\"], dtype='int8')\n",
    "Y = Y.reshape(-1, 1)\n",
    "Y = Y.ravel()"
   ]
  },
  {
   "cell_type": "code",
   "execution_count": 44,
   "id": "43a0acb9",
   "metadata": {},
   "outputs": [
    {
     "name": "stdout",
     "output_type": "stream",
     "text": [
      "training size: 4458 testing size: 496 label counts: [2216 2242]\n",
      "score train: 0.4970838941229251\n",
      "score test:  0.5262096774193549\n"
     ]
    }
   ],
   "source": [
    "# Use a simple feed-forward net as provided by the science kit learn package, the Multi-Layer-Perceptron Classifier\n",
    "X_train, X_test, y_train, y_test = train_test_split(X, Y, test_size=0.1)\n",
    "print('training size:', X_train.shape[0], \n",
    "      'testing size:', X_test.shape[0],\n",
    "      'label counts:', np.unique(y_train, return_counts=True)[1])\n",
    "\n",
    "clf = MLPClassifier(hidden_layer_sizes=(100,20,), max_iter=50).fit(X_train, y_train)\n",
    "print('score train:', clf.score(X_train, y_train))\n",
    "print('score test: ', clf.score(X_test, y_test))"
   ]
  },
  {
   "cell_type": "markdown",
   "id": "28614371",
   "metadata": {},
   "source": [
    "## 6. Creation of the second bot\n",
    "This optimised bot is now also able to pre-process the data from 'list.txt' and perform Machine Learning on it. save the text below as 'flightbot_2.txt'. "
   ]
  },
  {
   "cell_type": "markdown",
   "id": "b79ebc38",
   "metadata": {},
   "source": [
    "<pre>\n",
    "*** Settings ***\n",
    "Library             SeleniumLibrary\n",
    "Library             mytools.py\n",
    "\n",
    "*** Variables ***\n",
    "${url}                        http://127.0.0.1:4040\n",
    "${browser}      \t          Chrome\n",
    "\n",
    "*** Test Cases ***\n",
    "Start Flights\n",
    "    Open Browser              ${url}    ${browser} \n",
    "    Create My File            list.txt\n",
    "    Create My File            result.txt\n",
    "\n",
    "Enter Flight\n",
    "    Click Link      //a[@href=\"listflight\"]\n",
    "    \n",
    "Iterate Through \n",
    "    ${elements}=    Get WebElements    //td\n",
    "    FOR    ${element}    IN    @{elements}\n",
    "        Append My File    list.txt    ${element.text}\n",
    "    END\n",
    "\n",
    "Predict Delay\n",
    "    Predict Delay    list.txt    result.txt"
   ]
  },
  {
   "cell_type": "markdown",
   "id": "91954f7e",
   "metadata": {},
   "source": [
    "However, the 'mytools.py' file must be updated the following so that the bot can be executed. Additionally, compared to the library before, the bot will now also perform Machine Learning and save the result in a pickle file in order to be available for later use."
   ]
  },
  {
   "cell_type": "markdown",
   "id": "dd606704",
   "metadata": {},
   "source": [
    "```python\n",
    "import sqlite3\n",
    "import random\n",
    "import pandas as pd\n",
    "import numpy as np\n",
    "from sklearn.neural_network import MLPClassifier\n",
    "from sklearn.model_selection import train_test_split\n",
    "from sklearn.metrics import accuracy_score\n",
    "from sklearn.feature_extraction.text import CountVectorizer \n",
    "from sklearn.feature_extraction import text \n",
    "import pickle\n",
    "\n",
    "def create_my_file(fn):\n",
    "    fp = open(fn, 'w')\n",
    "    fp.close()\n",
    "def append_my_file(fn, txt):\n",
    "    fp = open(fn, 'a')\n",
    "    fp.write(txt + '\\n')\n",
    "    fp.close()\n",
    "\n",
    "def predict_delay(fn, fp):\n",
    "    f = open(fn)\n",
    "    flights = f.readlines()\n",
    "    flights_2 = np.array_split(flights, len(flights)/9)\n",
    "\n",
    "    labels = [\"id\", \"Airline\", \"Flight\", \"AirportFrom\", \"AirportTo\", \"DayOfWeek\", \"Time\", \"Length\", \"Delay\"]\n",
    "    df = pd.DataFrame.from_records(flights_2, columns = labels)\n",
    "    df = df.replace('\\n', '', regex=True)\n",
    "    \n",
    "    minobs = min(df.value_counts('Delay').values)\n",
    "    df = df.groupby('Delay').sample(n=minobs, random_state=1).sample(frac=1, random_state=1)\n",
    "    df.iloc[:5,:]\n",
    "    \n",
    "    X = np.asarray(df[\"Time\"])\n",
    "    X = X.reshape(-1, 1)\n",
    "\n",
    "    Y = np.asarray(df[\"Delay\"], dtype='int8')\n",
    "    Y = Y.reshape(-1, 1)\n",
    "    Y = Y.ravel()\n",
    "    \n",
    "    clff, Xmax2 = pickle.load(open('clf.pkl', 'rb'))\n",
    "    fpp = open(fp, 'a')\n",
    "\n",
    "    df = df.reset_index()   \n",
    "    results = clff.predict(X)\n",
    "    for i in range(len(df[\"Time\"])):\n",
    "            fpp.write(df[\"Flight\"][i] + \" - \" + df[\"Delay\"][i] + \" - \" + str(results[i]) + '\\n')\n",
    "\n",
    "    fpp.close()\n",
    "\n",
    "\n",
    "def append_my_file2(fn, txt):\n",
    "    fp = open(fn, 'a')\n",
    "    fa = open(fn)\n",
    "    if len(fa.readlines())%3 == 2:\n",
    "        fp.write(str(len(fp.readlines())) + ';' + \"\\n\")\n",
    "    else:\n",
    "        fp.write(txt + ';')\n",
    "    fp.close()\n",
    "```"
   ]
  },
  {
   "cell_type": "markdown",
   "id": "01a94e5b",
   "metadata": {},
   "source": [
    "## 7. Creation of the third bot\n",
    "This optimized and final bot is now finally additionally able to book the flight. Save the text below as 'flightbot_3.txt' in your register and execute it."
   ]
  },
  {
   "cell_type": "markdown",
   "id": "760b73cd",
   "metadata": {},
   "source": [
    "<pre>\n",
    "*** Settings ***\n",
    "Library             SeleniumLibrary\n",
    "Library             mytools.py\n",
    "\n",
    "\n",
    "*** Variables ***\n",
    "${url1}                        http://127.0.0.1:4040\n",
    "${url2}                        http://blazedemo.com/\n",
    "${browser}                     Chrome\n",
    "\n",
    "*** Test Cases ***\n",
    "Start Flights\n",
    "    Open Browser              ${url1}    ${browser} \n",
    "    Create My File            list.txt\n",
    "    Create My File            result.txt\n",
    "\n",
    "Enter Flight\n",
    "    Click Link      //a[@href=\"listflight\"]\n",
    "Iterate Through \n",
    "    ${elements}=    Get WebElements    //td\n",
    "    FOR    ${element}    IN    @{elements}\n",
    "        Append My File    list.txt    ${element.text}\n",
    "    END\n",
    "\n",
    "Predict Delay\n",
    "    Predict Delay    list.txt    result.txt\n",
    "\n",
    "Search Flight\n",
    "    [Tags]        search_flights\n",
    "    Open browser              ${url2}    ${browser}\n",
    "    Select From List By Value   xpath://select[@name='fromPort']  Mexico City\n",
    "    Select From List by Value   xpath://select[@name='toPort']    Buenos Aires\n",
    "    Click Button    css:input[type='submit']\n",
    "    Click Button    css:input[type='submit']\n",
    "\n",
    "Book Flight (Personal Data)\n",
    "    [Tags]        book_flight_personal\n",
    "    Input Text      //input[@name=\"inputName\"]        Elena Gaggia\n",
    "    Input Text      //input[@name=\"address\"]          5th Avenue Central Park\n",
    "    Input Text      //input[@name=\"city\"]             New York\n",
    "    Input Text      //input[@name=\"state\"]            New York\n",
    "    Input Text      //input[@name=\"zipCode\"]          10019\n",
    "\n",
    "Book Flight (Credit Card Data)\n",
    "    [Tags]          book_flight_payment    \n",
    "    Input Text      //input[@name=\"creditCardNumber\"]  123412312341234\n",
    "    Input Text      //input[@name=\"creditCardYear\"]    2021\n",
    "    Input Text      //input[@name=\"nameOnCard\"]        Elena Gaggia\n",
    "    Click Button    css:input[type='submit']"
   ]
  },
  {
   "cell_type": "markdown",
   "id": "91f6a113",
   "metadata": {},
   "source": [
    "## Appendix and future ideas\n",
    "In order to implement this project in the long term, 3 points still need to be considered:\n",
    "\n",
    "1. Data must be found which, if possible, cover all air routes worldwide.\n",
    "2. A site must be found that offers flights of all kinds (i.e., Google Flights).\n",
    "3. The bot could be complemented with two conditional statements when configuring the chosen page. The first would check the result from Machine Learning and determine the lowest possible value that would indicate a delay. A second conditional could also set a minimum price level.\n",
    "\n",
    "This project can serve as a prototype for such a bot."
   ]
  },
  {
   "cell_type": "markdown",
   "id": "3663616a",
   "metadata": {},
   "source": [
    "## Links\n",
    "- Lecture Resources: http://mitloehner.com/lehre/rpa/\n",
    "- Dataset: https://www.kaggle.com/code/jeffhollis/airline-delay-predictions/notebook\n",
    "- Blazedemo: https://blazedemo.com"
   ]
  }
 ],
 "metadata": {
  "kernelspec": {
   "display_name": "Python 3 (ipykernel)",
   "language": "python",
   "name": "python3"
  },
  "language_info": {
   "codemirror_mode": {
    "name": "ipython",
    "version": 3
   },
   "file_extension": ".py",
   "mimetype": "text/x-python",
   "name": "python",
   "nbconvert_exporter": "python",
   "pygments_lexer": "ipython3",
   "version": "3.9.12"
  },
  "vscode": {
   "interpreter": {
    "hash": "02d131ae9671a7974c5d3b54a2e7b6c3b145e7af12c955c731c8c8bf534e15c1"
   }
  }
 },
 "nbformat": 4,
 "nbformat_minor": 5
}
